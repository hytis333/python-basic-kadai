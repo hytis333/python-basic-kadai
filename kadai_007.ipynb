{
  "nbformat": 4,
  "nbformat_minor": 0,
  "metadata": {
    "colab": {
      "provenance": [],
      "authorship_tag": "ABX9TyMarDpZosj4fAH+I7gVG8Hg",
      "include_colab_link": true
    },
    "kernelspec": {
      "name": "python3",
      "display_name": "Python 3"
    },
    "language_info": {
      "name": "python"
    }
  },
  "cells": [
    {
      "cell_type": "markdown",
      "metadata": {
        "id": "view-in-github",
        "colab_type": "text"
      },
      "source": [
        "<a href=\"https://colab.research.google.com/github/hytis333/python-basic-kadai/blob/main/kadai_007.ipynb\" target=\"_parent\"><img src=\"https://colab.research.google.com/assets/colab-badge.svg\" alt=\"Open In Colab\"/></a>"
      ]
    },
    {
      "cell_type": "code",
      "execution_count": 18,
      "metadata": {
        "colab": {
          "base_uri": "https://localhost:8080/"
        },
        "id": "dANKyrI_0xsQ",
        "outputId": "c71655f9-b29d-49d5-c419-378b3b1a79fc"
      },
      "outputs": [
        {
          "output_type": "stream",
          "name": "stdout",
          "text": [
            "\t水曜日は晴れです\n",
            "晴れ\n"
          ]
        }
      ],
      "source": [
        "array = ['月曜日は晴れです','火曜日は雨です','\t水曜日は晴れです','木曜日は晴れです','金曜日は曇りです','土曜日は曇りのち雨です','\t日曜日は雷雨です']\n",
        "print(array[2])\n",
        "\n",
        "dictionary = {'mon':'晴れ','tue':'雨','wed':'晴れ','thu':'晴れ','fri':'曇り','sat':'曇りのち雨','sun':'雷雨'}\n",
        "print(dictionary['wed'])\n"
      ]
    }
  ]
}